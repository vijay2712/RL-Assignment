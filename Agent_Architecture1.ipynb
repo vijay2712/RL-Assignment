{
  "nbformat": 4,
  "nbformat_minor": 0,
  "metadata": {
    "kernelspec": {
      "display_name": "Python 3",
      "language": "python",
      "name": "python3"
    },
    "language_info": {
      "codemirror_mode": {
        "name": "ipython",
        "version": 3
      },
      "file_extension": ".py",
      "mimetype": "text/x-python",
      "name": "python",
      "nbconvert_exporter": "python",
      "pygments_lexer": "ipython3",
      "version": "3.8.5"
    },
    "colab": {
      "name": "Agent_Architecture1.ipynb",
      "provenance": [],
      "collapsed_sections": []
    },
    "accelerator": "GPU"
  },
  "cells": [
    {
      "cell_type": "markdown",
      "metadata": {
        "id": "O1ZYtGwva1S7"
      },
      "source": [
        "### Cab-Driver Agent"
      ]
    },
    {
      "cell_type": "code",
      "metadata": {
        "id": "jb9IuA5Za1TE"
      },
      "source": [
        "# Importing libraries\n",
        "import numpy as np\n",
        "import random\n",
        "import math\n",
        "from collections import deque\n",
        "import collections\n",
        "import pickle\n",
        "import time\n",
        "\n",
        "# for building DQN model\n",
        "from keras import layers\n",
        "from keras import Sequential\n",
        "from keras.layers import Dense, Activation, Flatten\n",
        "from tensorflow.keras.optimizers import Adam\n",
        "\n",
        "# for plotting graphs\n",
        "import matplotlib.pyplot as plt\n",
        "\n",
        "# Import the environment\n",
        "from Env import CabDriver"
      ],
      "execution_count": 2,
      "outputs": []
    },
    {
      "cell_type": "markdown",
      "metadata": {
        "id": "nMY43Foua1Tt"
      },
      "source": [
        "### 1. Load the Time Matrix"
      ]
    },
    {
      "cell_type": "code",
      "metadata": {
        "id": "k-ade40za1Tu"
      },
      "source": [
        "# Loading the time matrix provided\n",
        "Time_matrix = np.load(\"TM.npy\")"
      ],
      "execution_count": 3,
      "outputs": []
    },
    {
      "cell_type": "markdown",
      "metadata": {
        "id": "398z-0Nfa1Tv"
      },
      "source": [
        "#### Check what the max, min and mean time values are. This will help us in defining the 'next_step' function in the Environment."
      ]
    },
    {
      "cell_type": "code",
      "metadata": {
        "scrolled": true,
        "colab": {
          "base_uri": "https://localhost:8080/"
        },
        "id": "RssVYu7da1Tv",
        "outputId": "46040cce-727d-42e5-830b-3c0ce34318fd"
      },
      "source": [
        "print(type(Time_matrix))\n",
        "print(Time_matrix.max())\n",
        "print(Time_matrix.min())\n",
        "print(Time_matrix.mean())\n",
        "print(Time_matrix.var())"
      ],
      "execution_count": 4,
      "outputs": [
        {
          "output_type": "stream",
          "name": "stdout",
          "text": [
            "<class 'numpy.ndarray'>\n",
            "11.0\n",
            "0.0\n",
            "3.0542857142857143\n",
            "7.93705306122449\n"
          ]
        }
      ]
    },
    {
      "cell_type": "markdown",
      "metadata": {
        "id": "JX91TM3_a1T-"
      },
      "source": [
        "#### Since the max time is 11 hours between any 2 points, the next state of the cab driver may increase at most by  1 day."
      ]
    },
    {
      "cell_type": "markdown",
      "metadata": {
        "id": "Vn9vcDTTa1UD"
      },
      "source": [
        "### 2. Agent Class\n",
        "\n",
        "If you are using this framework, you need to fill the following to complete the following code block:\n",
        "1. State and Action Size\n",
        "2. Hyperparameters\n",
        "3. Create a neural-network model in function 'build_model()'\n",
        "4. Define epsilon-greedy strategy in function 'get_action()'\n",
        "5. Complete the function 'append_sample()'. This function appends the recent experience tuple <state, action, reward, new-state> to the memory\n",
        "6. Complete the 'train_model()' function with following logic:\n",
        "   - If the memory size is greater than mini-batch size, you randomly sample experiences from memory as per the mini-batch size and do the following:\n",
        "      - Initialise your input and output batch for training the model\n",
        "      - Calculate the target Q value for each sample: reward + gamma*max(Q(s'a,))\n",
        "      - Get Q(s', a) values from the last trained model\n",
        "      - Update the input batch as your encoded state and output batch as your Q-values\n",
        "      - Then fit your DQN model using the updated input and output batch."
      ]
    },
    {
      "cell_type": "code",
      "metadata": {
        "id": "TtEC8bbla1UI"
      },
      "source": [
        "class DQNAgent:\n",
        "    def __init__(self, state_size, action_size):\n",
        "        # Define size of state and action\n",
        "        self.state_size = state_size\n",
        "        self.action_size = action_size\n",
        "\n",
        "        # Write here: Specify you hyper parameters for the DQN\n",
        "        self.discount_factor = 0.95\n",
        "        self.learning_rate = 0.01\n",
        "        self.epsilon = 1\n",
        "        self.epsilon_max = 1\n",
        "        self.epsilon_decay = -0.0005 #for 15k\n",
        "        #self.epsilon_decay = -0.00015 #for 20k\n",
        "        self.epsilon_min = 0.00001\n",
        "        \n",
        "        self.batch_size = 32\n",
        "\n",
        "        # create replay memory using deque\n",
        "        self.memory = deque(maxlen=2000)\n",
        "\n",
        "        # Initialize the value of the states tracked\n",
        "        self.states_tracked = []\n",
        "        \n",
        "        # We are going to track state [0,0,0] and action (0,2) at index 2 in the action space.\n",
        "        self.track_state = np.array(env.state_encod_arch1([0,0,0])).reshape(1, 36)\n",
        "\n",
        "        # create main model and target model\n",
        "        self.model = self.build_model()\n",
        "\n",
        "    # approximate Q function using Neural Network\n",
        "    def build_model(self):\n",
        "        \"\"\"\n",
        "        Function that takes in the agent and constructs the network\n",
        "        to train it\n",
        "        @return model\n",
        "        @params agent\n",
        "        \"\"\"\n",
        "        input_shape = self.state_size\n",
        "        model = Sequential()\n",
        "        # Write your code here: Add layers to your neural nets       \n",
        "        model.add(Dense(32, input_dim=self.state_size, activation='relu', kernel_initializer='he_uniform'))\n",
        "        model.add(Dense(32, activation='relu', kernel_initializer='he_uniform'))\n",
        "        # the output layer: output is of size num_actions\n",
        "        model.add(Dense(self.action_size, activation='relu', kernel_initializer='he_uniform'))\n",
        "        model.compile(loss='mse', optimizer=Adam(lr=self.learning_rate))\n",
        "        model.summary\n",
        "        return model\n",
        "\n",
        "    def get_action(self, state, possible_actions_index, actions):\n",
        "        \"\"\"\n",
        "        get action in a state according to an epsilon-greedy approach\n",
        "        possible_actions_index, actions are the 'ride requests' that teh driver got.\n",
        "        \"\"\"        \n",
        "        # get action from model using epsilon-greedy policy\n",
        "        # Decay in ε after each episode       \n",
        "        if np.random.rand() <= self.epsilon:\n",
        "            # explore: choose a random action from the ride requests\n",
        "            return random.choice(possible_actions_index)\n",
        "        else:\n",
        "            # choose the action with the highest q(s, a)\n",
        "            # the first index corresponds to the batch size, so\n",
        "            # reshape state to (1, state_size) so that the first index corresponds to the batch size\n",
        "            state = np.array(env.state_encod_arch1(state)).reshape(1, 36)\n",
        "\n",
        "            # Use the model to predict the Q_values.\n",
        "            q_value = self.model.predict(state)\n",
        "\n",
        "            # truncate the array to only those actions that are part of the ride  requests.\n",
        "            q_vals_possible = [q_value[0][i] for i in possible_actions_index]\n",
        "\n",
        "            return possible_actions_index[np.argmax(q_vals_possible)]\n",
        "\n",
        "    def append_sample(self, state, action_index, reward, next_state, done):\n",
        "        \"\"\"appends the new agent run output to replay buffer\"\"\"\n",
        "        self.memory.append((state, action_index, reward, next_state, done))\n",
        "        \n",
        "    # pick samples randomly from replay memory (with batch_size) and train the network\n",
        "    def train_model(self):\n",
        "        \"\"\" \n",
        "        Function to train the model on eacg step run.\n",
        "        Picks the random memory events according to batch size and \n",
        "        runs it through the network to train it.\n",
        "        \"\"\"\n",
        "        if len(self.memory) > self.batch_size:\n",
        "            # Sample batch from the memory\n",
        "            mini_batch = random.sample(self.memory, self.batch_size)\n",
        "            # initialise two matrices - update_input and update_output\n",
        "            update_input = np.zeros((self.batch_size, self.state_size))\n",
        "            update_output = np.zeros((self.batch_size, self.state_size))\n",
        "            actions, rewards, done = [], [], []\n",
        "\n",
        "            # populate update_input and update_output and the lists rewards, actions, done\n",
        "            for i in range(self.batch_size):\n",
        "                state, action, reward, next_state, done_boolean = mini_batch[i]\n",
        "                update_input[i] = env.state_encod_arch1(state)     \n",
        "                actions.append(action)\n",
        "                rewards.append(reward)\n",
        "                update_output[i] = env.state_encod_arch1(next_state)\n",
        "                done.append(done_boolean)\n",
        "\n",
        "            # predict the target q-values from states s\n",
        "            target = self.model.predict(update_input)\n",
        "            # target for q-network\n",
        "            target_qval = self.model.predict(update_output)\n",
        "\n",
        "\n",
        "            # update the target values\n",
        "            for i in range(self.batch_size):\n",
        "                if done[i]:\n",
        "                    target[i][actions[i]] = rewards[i]\n",
        "                else: # non-terminal state\n",
        "                    target[i][actions[i]] = rewards[i] + self.discount_factor * np.max(target_qval[i])\n",
        "            # model fit\n",
        "            self.model.fit(update_input, target, batch_size=self.batch_size, epochs=1, verbose=0)\n",
        "            \n",
        "    def save_tracking_states(self):\n",
        "        # Use the model to predict the q_value of the state we are tacking.\n",
        "        q_value = self.model.predict(self.track_state)\n",
        "        \n",
        "        # Grab the q_value of the action index that we are tracking.\n",
        "        self.states_tracked.append(q_value[0][2])\n",
        "        \n",
        "    def save_test_states(self):\n",
        "        # Use the model to predict the q_value of the state we are tacking.\n",
        "        q_value = self.model.predict(self.track_state)\n",
        "        \n",
        "        # Grab the q_value of the action index that we are tracking.\n",
        "        self.states_test.append(q_value[0][2])\n",
        "\n",
        "    def save(self, name):\n",
        "        with open(name, 'wb') as file:  \n",
        "            pickle.dump(self.model, file,pickle.HIGHEST_PROTOCOL)"
      ],
      "execution_count": 5,
      "outputs": []
    },
    {
      "cell_type": "markdown",
      "metadata": {
        "id": "bplEuPjDa1UY"
      },
      "source": [
        "### 3. DQN block"
      ]
    },
    {
      "cell_type": "markdown",
      "metadata": {
        "id": "UzBvLndDa1UZ"
      },
      "source": [
        "for episode in range(Episodes):\n",
        "\n",
        "    # Write code here\n",
        "    # Call the environment\n",
        "    # Call all the initialised variables of the environment\n",
        "    \n",
        "\n",
        "    #Call the DQN agent\n",
        "    \n",
        "    \n",
        "    while !terminal_state:\n",
        "        \n",
        "        # Write your code here\n",
        "        # 1. Pick epsilon-greedy action from possible actions for the current state\n",
        "        # 2. Evaluate your reward and next state\n",
        "        # 3. Append the experience to the memory\n",
        "        # 4. Train the model by calling function agent.train_model\n",
        "        # 5. Keep a track of rewards, Q-values, loss\n",
        "        "
      ]
    },
    {
      "cell_type": "code",
      "metadata": {
        "colab": {
          "base_uri": "https://localhost:8080/"
        },
        "id": "BeWnP9Hta1UZ",
        "outputId": "5ffae2d0-544b-4631-b032-56724592dc34"
      },
      "source": [
        "episode_time = 24*30 #30 days before which car has to be recharged\n",
        "n_episodes = 1000\n",
        "m = 5\n",
        "t = 24\n",
        "d = 7\n",
        "\n",
        "# Invoke Env class\n",
        "env = CabDriver()\n",
        "action_space, state_space, state = env.reset()\n",
        "\n",
        "# Set up state and action sizes.\n",
        "state_size = m+t+d\n",
        "action_size = len(action_space)\n",
        "\n",
        "# Invoke agent class\n",
        "agent = DQNAgent(action_size=action_size, state_size=state_size)\n",
        "\n",
        "# to store rewards in each episode\n",
        "rewards_per_episode, episodes = [], []\n",
        "# Rewards for state [0,0,0] being tracked.\n",
        "rewards_init_state = []"
      ],
      "execution_count": 6,
      "outputs": [
        {
          "output_type": "stream",
          "name": "stderr",
          "text": [
            "/usr/local/lib/python3.7/dist-packages/keras/optimizer_v2/adam.py:105: UserWarning: The `lr` argument is deprecated, use `learning_rate` instead.\n",
            "  super(Adam, self).__init__(name, **kwargs)\n"
          ]
        }
      ]
    },
    {
      "cell_type": "markdown",
      "metadata": {
        "id": "T3z1owIia1Ua"
      },
      "source": [
        "### 4. Run the episodes, build up replay buffer and train the model.\n",
        "### Note:\n",
        "#### The moment total episode time exceeds 720 (30 days), we ignore the most recent ride and do NOT save that experience in the replay memory\n",
        "#### The init state is randomly picked from the state space for each episode"
      ]
    },
    {
      "cell_type": "code",
      "metadata": {
        "colab": {
          "base_uri": "https://localhost:8080/"
        },
        "id": "DZt_fwmEa1Ub",
        "outputId": "a353b098-880f-494c-e2f0-d79e6c458ca1"
      },
      "source": [
        "start_time = time.time()\n",
        "score_tracked = []\n",
        "\n",
        "for episode in range(n_episodes):\n",
        "\n",
        "    done = False\n",
        "    score = 0\n",
        "    track_reward = False\n",
        "\n",
        "    # reset at the start of each episode\n",
        "    env = CabDriver()\n",
        "    action_space, state_space, state = env.reset()\n",
        "    # Save the initial state so that reward can be tracked if initial state is [0,0,0]\n",
        "    initial_state = env.state_init\n",
        "\n",
        "\n",
        "    total_time = 0  # Total time driver rode in this episode\n",
        "    while not done:\n",
        "        # 1. Get a list of the ride requests driver got.\n",
        "        possible_actions_indices, actions = env.requests(state)\n",
        "        # 2. Pick epsilon-greedy action from possible actions for the current state.\n",
        "        action = agent.get_action(state, possible_actions_indices, actions)\n",
        "\n",
        "        # 3. Evaluate your reward and next state\n",
        "        reward, next_state, step_time = env.step(state, env.action_space[action], Time_matrix)\n",
        "        # 4. Total time driver rode in this episode\n",
        "        total_time += step_time\n",
        "        if (total_time > episode_time):\n",
        "            # if ride does not complete in stipu;ated time skip\n",
        "            # it and move to next episode.\n",
        "            done = True\n",
        "        else:\n",
        "            # 5. Append the experience to the memory\n",
        "            agent.append_sample(state, action, reward, next_state, done)\n",
        "            # 6. Train the model by calling function agent.train_model\n",
        "            agent.train_model()\n",
        "            # 7. Keep a track of rewards, Q-values, loss\n",
        "            score += reward\n",
        "            state = next_state\n",
        "\n",
        "    # store total reward obtained in this episode\n",
        "    rewards_per_episode.append(score)\n",
        "    episodes.append(episode)\n",
        "    \n",
        "\n",
        "    # epsilon decay\n",
        "    agent.epsilon = (1 - 0.00001) * np.exp(agent.epsilon_decay * episode)\n",
        "\n",
        "    # every 10 episodes:\n",
        "    if ((episode + 1) % 10 == 0):\n",
        "        print(\"episode {0}, reward {1}, memory_length {2}, epsilon {3} total_time {4}\".format(episode,\n",
        "                                                                         score,\n",
        "                                                                         len(agent.memory),\n",
        "                                                                         agent.epsilon, total_time))\n",
        "    # Save the Q_value of the state, action pair we are tracking\n",
        "    if ((episode + 1) % 5 == 0):\n",
        "        agent.save_tracking_states()\n",
        "\n",
        "    # Total rewards per episode\n",
        "    score_tracked.append(score)\n",
        "\n",
        "    if(episode % 1000 == 0):\n",
        "        print(\"Saving Model {}\".format(episode))\n",
        "        agent.save(name=\"model_weights.pkl\")\n",
        "    \n",
        "elapsed_time = time.time() - start_time\n",
        "print(elapsed_time)\n"
      ],
      "execution_count": 7,
      "outputs": [
        {
          "output_type": "stream",
          "name": "stdout",
          "text": [
            "Saving Model 0\n",
            "INFO:tensorflow:Assets written to: ram://b93b3924-848a-4f9a-a017-bda9fd92169f/assets\n",
            "episode 9, reward -139.0, memory_length 1396, epsilon 0.9955001547284723 total_time 722.0\n",
            "episode 19, reward -179.0, memory_length 2000, epsilon 0.9905350769930761 total_time 726.0\n",
            "episode 29, reward 81.0, memory_length 2000, epsilon 0.9855947626861951 total_time 721.0\n",
            "episode 39, reward -111.0, memory_length 2000, epsilon 0.9806790882997144 total_time 726.0\n",
            "episode 49, reward -58.0, memory_length 2000, epsilon 0.9757879309415182 total_time 734.0\n",
            "episode 59, reward -167.0, memory_length 2000, epsilon 0.9709211683324178 total_time 721.0\n",
            "episode 69, reward -101.0, memory_length 2000, epsilon 0.9660786788030947 total_time 721.0\n",
            "episode 79, reward 15.0, memory_length 2000, epsilon 0.9612603412910584 total_time 721.0\n",
            "episode 89, reward -166.0, memory_length 2000, epsilon 0.9564660353376199 total_time 726.0\n",
            "episode 99, reward -241.0, memory_length 2000, epsilon 0.9516956410848808 total_time 722.0\n",
            "episode 109, reward 48.0, memory_length 2000, epsilon 0.9469490392727365 total_time 726.0\n",
            "episode 119, reward -224.0, memory_length 2000, epsilon 0.9422261112358942 total_time 726.0\n",
            "episode 129, reward -233.0, memory_length 2000, epsilon 0.9375267389009072 total_time 729.0\n",
            "episode 139, reward -189.0, memory_length 2000, epsilon 0.9328508047832221 total_time 728.0\n",
            "episode 149, reward -329.0, memory_length 2000, epsilon 0.9281981919842428 total_time 727.0\n",
            "episode 159, reward -157.0, memory_length 2000, epsilon 0.9235687841884068 total_time 721.0\n",
            "episode 169, reward -133.0, memory_length 2000, epsilon 0.918962465660278 total_time 728.0\n",
            "episode 179, reward 0.0, memory_length 2000, epsilon 0.9143791212416534 total_time 726.0\n",
            "episode 189, reward -247.0, memory_length 2000, epsilon 0.9098186363486838 total_time 727.0\n",
            "episode 199, reward 72.0, memory_length 2000, epsilon 0.9052808969690094 total_time 721.0\n",
            "episode 209, reward 126.0, memory_length 2000, epsilon 0.9007657896589091 total_time 726.0\n",
            "episode 219, reward -346.0, memory_length 2000, epsilon 0.8962732015404654 total_time 723.0\n",
            "episode 229, reward 77.0, memory_length 2000, epsilon 0.891803020298741 total_time 728.0\n",
            "episode 239, reward 379.0, memory_length 2000, epsilon 0.8873551341789723 total_time 737.0\n",
            "episode 249, reward 157.0, memory_length 2000, epsilon 0.8829294319837746 total_time 724.0\n",
            "episode 259, reward 116.0, memory_length 2000, epsilon 0.8785258030703623 total_time 723.0\n",
            "episode 269, reward 23.0, memory_length 2000, epsilon 0.8741441373477834 total_time 722.0\n",
            "episode 279, reward 189.0, memory_length 2000, epsilon 0.8697843252741666 total_time 730.0\n",
            "episode 289, reward 263.0, memory_length 2000, epsilon 0.8654462578539829 total_time 728.0\n",
            "episode 299, reward 54.0, memory_length 2000, epsilon 0.8611298266353209 total_time 724.0\n",
            "episode 309, reward 279.0, memory_length 2000, epsilon 0.8568349237071754 total_time 730.0\n",
            "episode 319, reward 7.0, memory_length 2000, epsilon 0.8525614416967494 total_time 724.0\n",
            "episode 329, reward 266.0, memory_length 2000, epsilon 0.84830927376677 total_time 727.0\n",
            "episode 339, reward 80.0, memory_length 2000, epsilon 0.8440783136128177 total_time 721.0\n",
            "episode 349, reward 459.0, memory_length 2000, epsilon 0.8398684554606681 total_time 731.0\n",
            "episode 359, reward 180.0, memory_length 2000, epsilon 0.8356795940636483 total_time 721.0\n",
            "episode 369, reward 43.0, memory_length 2000, epsilon 0.8315116247000052 total_time 723.0\n",
            "episode 379, reward -25.0, memory_length 2000, epsilon 0.8273644431702872 total_time 723.0\n",
            "episode 389, reward 330.0, memory_length 2000, epsilon 0.8232379457947406 total_time 726.0\n",
            "episode 399, reward -111.0, memory_length 2000, epsilon 0.819132029410716 total_time 722.0\n",
            "episode 409, reward 136.0, memory_length 2000, epsilon 0.8150465913700896 total_time 725.0\n",
            "episode 419, reward -107.0, memory_length 2000, epsilon 0.8109815295366979 total_time 726.0\n",
            "episode 429, reward 252.0, memory_length 2000, epsilon 0.8069367422837833 total_time 726.0\n",
            "episode 439, reward -14.0, memory_length 2000, epsilon 0.8029121284914538 total_time 727.0\n",
            "episode 449, reward -45.0, memory_length 2000, epsilon 0.7989075875441549 total_time 723.0\n",
            "episode 459, reward 474.0, memory_length 2000, epsilon 0.7949230193281545 total_time 723.0\n",
            "episode 469, reward -157.0, memory_length 2000, epsilon 0.7909583242290396 total_time 722.0\n",
            "episode 479, reward -89.0, memory_length 2000, epsilon 0.7870134031292261 total_time 722.0\n",
            "episode 489, reward 91.0, memory_length 2000, epsilon 0.7830881574054811 total_time 723.0\n",
            "episode 499, reward 297.0, memory_length 2000, epsilon 0.7791824889264571 total_time 727.0\n",
            "episode 509, reward 248.0, memory_length 2000, epsilon 0.7752963000502389 total_time 725.0\n",
            "episode 519, reward 473.0, memory_length 2000, epsilon 0.7714294936219019 total_time 729.0\n",
            "episode 529, reward 99.0, memory_length 2000, epsilon 0.7675819729710842 total_time 726.0\n",
            "episode 539, reward 336.0, memory_length 2000, epsilon 0.763753641909569 total_time 722.0\n",
            "episode 549, reward 69.0, memory_length 2000, epsilon 0.7599444047288803 total_time 724.0\n",
            "episode 559, reward 254.0, memory_length 2000, epsilon 0.7561541661978903 total_time 727.0\n",
            "episode 569, reward 531.0, memory_length 2000, epsilon 0.7523828315604384 total_time 733.0\n",
            "episode 579, reward 531.0, memory_length 2000, epsilon 0.7486303065329623 total_time 730.0\n",
            "episode 589, reward 117.0, memory_length 2000, epsilon 0.7448964973021404 total_time 722.0\n",
            "episode 599, reward 313.0, memory_length 2000, epsilon 0.7411813105225479 total_time 721.0\n",
            "episode 609, reward 459.0, memory_length 2000, epsilon 0.7374846533143217 total_time 721.0\n",
            "episode 619, reward 244.0, memory_length 2000, epsilon 0.733806433260839 total_time 724.0\n",
            "episode 629, reward 522.0, memory_length 2000, epsilon 0.7301465584064071 total_time 726.0\n",
            "episode 639, reward 73.0, memory_length 2000, epsilon 0.7265049372539636 total_time 724.0\n",
            "episode 649, reward 379.0, memory_length 2000, epsilon 0.7228814787627905 total_time 724.0\n",
            "episode 659, reward 459.0, memory_length 2000, epsilon 0.7192760923462365 total_time 731.0\n",
            "episode 669, reward 276.0, memory_length 2000, epsilon 0.7156886878694535 total_time 728.0\n",
            "episode 679, reward 465.0, memory_length 2000, epsilon 0.7121191756471427 total_time 721.0\n",
            "episode 689, reward 340.0, memory_length 2000, epsilon 0.7085674664413126 total_time 731.0\n",
            "episode 699, reward -31.0, memory_length 2000, epsilon 0.7050334714590482 total_time 723.0\n",
            "episode 709, reward 685.0, memory_length 2000, epsilon 0.7015171023502909 total_time 724.0\n",
            "episode 719, reward 465.0, memory_length 2000, epsilon 0.6980182712056295 total_time 725.0\n",
            "episode 729, reward 108.0, memory_length 2000, epsilon 0.6945368905541035 total_time 721.0\n",
            "episode 739, reward 195.0, memory_length 2000, epsilon 0.6910728733610152 total_time 721.0\n",
            "episode 749, reward 303.0, memory_length 2000, epsilon 0.6876261330257543 total_time 724.0\n",
            "episode 759, reward 810.0, memory_length 2000, epsilon 0.684196583379633 total_time 729.0\n",
            "episode 769, reward -77.0, memory_length 2000, epsilon 0.6807841386837313 total_time 723.0\n",
            "episode 779, reward 595.0, memory_length 2000, epsilon 0.6773887136267543 total_time 723.0\n",
            "episode 789, reward 471.0, memory_length 2000, epsilon 0.6740102233228988 total_time 724.0\n",
            "episode 799, reward 460.0, memory_length 2000, epsilon 0.670648583309731 total_time 725.0\n",
            "episode 809, reward 24.0, memory_length 2000, epsilon 0.6673037095460755 total_time 723.0\n",
            "episode 819, reward 267.0, memory_length 2000, epsilon 0.6639755184099142 total_time 725.0\n",
            "episode 829, reward 415.0, memory_length 2000, epsilon 0.6606639266962953 total_time 724.0\n",
            "episode 839, reward 637.0, memory_length 2000, epsilon 0.6573688516152534 total_time 723.0\n",
            "episode 849, reward 400.0, memory_length 2000, epsilon 0.6540902107897397 total_time 723.0\n",
            "episode 859, reward 334.0, memory_length 2000, epsilon 0.6508279222535631 total_time 728.0\n",
            "episode 869, reward 718.0, memory_length 2000, epsilon 0.64758190444934 total_time 722.0\n",
            "episode 879, reward 569.0, memory_length 2000, epsilon 0.6443520762264566 total_time 725.0\n",
            "episode 889, reward 513.0, memory_length 2000, epsilon 0.6411383568390387 total_time 724.0\n",
            "episode 899, reward 473.0, memory_length 2000, epsilon 0.6379406659439346 total_time 722.0\n",
            "episode 909, reward 350.0, memory_length 2000, epsilon 0.6347589235987051 total_time 721.0\n",
            "episode 919, reward 428.0, memory_length 2000, epsilon 0.631593050259626 total_time 722.0\n",
            "episode 929, reward 510.0, memory_length 2000, epsilon 0.6284429667796988 total_time 721.0\n",
            "episode 939, reward 304.0, memory_length 2000, epsilon 0.6253085944066726 total_time 722.0\n",
            "episode 949, reward 194.0, memory_length 2000, epsilon 0.6221898547810748 total_time 721.0\n",
            "episode 959, reward 222.0, memory_length 2000, epsilon 0.6190866699342522 total_time 729.0\n",
            "episode 969, reward 853.0, memory_length 2000, epsilon 0.6159989622864221 total_time 727.0\n",
            "episode 979, reward 396.0, memory_length 2000, epsilon 0.6129266546447325 total_time 724.0\n",
            "episode 989, reward 474.0, memory_length 2000, epsilon 0.6098696702013323 total_time 726.0\n",
            "episode 999, reward 254.0, memory_length 2000, epsilon 0.6068279325314512 total_time 723.0\n",
            "20029.398245573044\n"
          ]
        }
      ]
    },
    {
      "cell_type": "markdown",
      "metadata": {
        "id": "dxWGChK8a1Ud"
      },
      "source": [
        "### The 'total_time' above includes the 'last ride' time also in each episode. Although it exceeds 24*30 = 720, our code drops the last ride from the replay buffer. So the total ride time per episode is limited to < 720"
      ]
    },
    {
      "cell_type": "code",
      "metadata": {
        "colab": {
          "base_uri": "https://localhost:8080/"
        },
        "id": "u6F2DweUa1Uf",
        "outputId": "942fbbca-5ae9-47f3-82fc-04ce65175cf3"
      },
      "source": [
        "agent.save(name=\"model_weights.pkl\")"
      ],
      "execution_count": 24,
      "outputs": [
        {
          "output_type": "stream",
          "name": "stdout",
          "text": [
            "INFO:tensorflow:Assets written to: ram://a4ba8821-4a46-4476-b03d-a686f3f45f1b/assets\n"
          ]
        }
      ]
    },
    {
      "cell_type": "markdown",
      "metadata": {
        "id": "2tDFjc9oa1Ug"
      },
      "source": [
        "### Tracking Convergence"
      ]
    },
    {
      "cell_type": "code",
      "metadata": {
        "colab": {
          "base_uri": "https://localhost:8080/"
        },
        "id": "u8A2BKpEa1Ug",
        "outputId": "3109c035-b953-45b3-d099-f3a6958355a1"
      },
      "source": [
        "agent.states_tracked"
      ],
      "execution_count": 25,
      "outputs": [
        {
          "output_type": "execute_result",
          "data": {
            "text/plain": [
              "[663.33704,\n",
              " 948.1634,\n",
              " 274.45068,\n",
              " 237.20023,\n",
              " 163.46689,\n",
              " 152.09761,\n",
              " 198.32196,\n",
              " 239.45035,\n",
              " 422.52188,\n",
              " 479.5922,\n",
              " 403.8696,\n",
              " 407.52728,\n",
              " 514.99554,\n",
              " 885.13043,\n",
              " 353.5957,\n",
              " 347.9485,\n",
              " 353.8387,\n",
              " 380.5604,\n",
              " 388.79523,\n",
              " 357.79678,\n",
              " 369.75656,\n",
              " 394.2051,\n",
              " 448.37436,\n",
              " 418.52756,\n",
              " 465.89185,\n",
              " 607.46,\n",
              " 521.39355,\n",
              " 515.53156,\n",
              " 486.00534,\n",
              " 462.7599,\n",
              " 552.26495,\n",
              " 2216.4983,\n",
              " 438.67963,\n",
              " 543.8289,\n",
              " 483.88602,\n",
              " 477.06604,\n",
              " 405.1227,\n",
              " 410.5049,\n",
              " 419.3906,\n",
              " 446.91376,\n",
              " 529.07587,\n",
              " 480.7438,\n",
              " 441.46323,\n",
              " 479.2401,\n",
              " 520.18335,\n",
              " 548.64746,\n",
              " 675.98914,\n",
              " 437.28293,\n",
              " 562.7396,\n",
              " 597.4055,\n",
              " 577.6562,\n",
              " 557.2825,\n",
              " 511.54434,\n",
              " 546.62445,\n",
              " 527.8447,\n",
              " 565.05774,\n",
              " 537.7844,\n",
              " 574.5702,\n",
              " 568.6815,\n",
              " 501.5997,\n",
              " 547.3937,\n",
              " 568.83813,\n",
              " 649.58685,\n",
              " 572.51526,\n",
              " 697.64716,\n",
              " 535.5819,\n",
              " 667.9946,\n",
              " 660.29486,\n",
              " 712.54816,\n",
              " 668.13434,\n",
              " 627.93427,\n",
              " 582.6852,\n",
              " 539.3957,\n",
              " 508.9181,\n",
              " 558.4814,\n",
              " 538.11304,\n",
              " 570.04974,\n",
              " 535.805,\n",
              " 580.00726,\n",
              " 548.13,\n",
              " 551.6031,\n",
              " 557.07404,\n",
              " 528.72253,\n",
              " 615.9565,\n",
              " 643.3926,\n",
              " 569.18335,\n",
              " 746.7128,\n",
              " 753.01733,\n",
              " 487.827,\n",
              " 469.8339,\n",
              " 462.04062,\n",
              " 452.0761,\n",
              " 509.56,\n",
              " 565.72565,\n",
              " 632.1639,\n",
              " 591.6811,\n",
              " 594.5608,\n",
              " 565.5524,\n",
              " 594.2427,\n",
              " 579.53424,\n",
              " 587.5112,\n",
              " 589.8695,\n",
              " 566.099,\n",
              " 571.6006,\n",
              " 526.3702,\n",
              " 541.01263,\n",
              " 583.7175,\n",
              " 600.67285,\n",
              " 557.19116,\n",
              " 529.41174,\n",
              " 578.0132,\n",
              " 611.21716,\n",
              " 574.31165,\n",
              " 619.91724,\n",
              " 633.3109,\n",
              " 519.73267,\n",
              " 598.36035,\n",
              " 561.82916,\n",
              " 578.8132,\n",
              " 549.4712,\n",
              " 641.7631,\n",
              " 530.8717,\n",
              " 527.55695,\n",
              " 580.6562,\n",
              " 573.2083,\n",
              " 552.9929,\n",
              " 628.2042,\n",
              " 575.82025,\n",
              " 602.5088,\n",
              " 534.19147,\n",
              " 554.15564,\n",
              " 591.37317,\n",
              " 647.18134,\n",
              " 606.6343,\n",
              " 579.4435,\n",
              " 585.907,\n",
              " 529.81177,\n",
              " 559.90875,\n",
              " 534.4519,\n",
              " 570.1334,\n",
              " 608.2935,\n",
              " 638.37103,\n",
              " 601.2704,\n",
              " 682.6865,\n",
              " 602.9928,\n",
              " 608.57965,\n",
              " 591.7483,\n",
              " 649.224,\n",
              " 673.2539,\n",
              " 649.0549,\n",
              " 489.3501,\n",
              " 561.29553,\n",
              " 611.9668,\n",
              " 612.73517,\n",
              " 621.62317,\n",
              " 602.07184,\n",
              " 598.7114,\n",
              " 624.5454,\n",
              " 668.41675,\n",
              " 669.76465,\n",
              " 560.71704,\n",
              " 549.47,\n",
              " 635.99146,\n",
              " 607.13324,\n",
              " 630.8304,\n",
              " 593.037,\n",
              " 622.8097,\n",
              " 587.98474,\n",
              " 600.11084,\n",
              " 556.6625,\n",
              " 573.38385,\n",
              " 608.6853,\n",
              " 631.7806,\n",
              " 530.49896,\n",
              " 596.6429,\n",
              " 570.7702,\n",
              " 610.6321,\n",
              " 589.9028,\n",
              " 586.5216,\n",
              " 567.0676,\n",
              " 599.2103,\n",
              " 618.68066,\n",
              " 568.94586,\n",
              " 580.2758,\n",
              " 664.98645,\n",
              " 580.505,\n",
              " 577.7558,\n",
              " 578.437,\n",
              " 583.0159,\n",
              " 553.7425,\n",
              " 591.8506,\n",
              " 537.15564,\n",
              " 592.1553,\n",
              " 585.78827,\n",
              " 587.29834,\n",
              " 590.07635,\n",
              " 617.81177,\n",
              " 653.67017,\n",
              " 656.4842,\n",
              " 609.41833]"
            ]
          },
          "metadata": {},
          "execution_count": 25
        }
      ]
    },
    {
      "cell_type": "code",
      "metadata": {
        "id": "alyX4Gpja1Ui"
      },
      "source": [
        "state_tracked_sample = [agent.states_tracked[i] for i in range(len(agent.states_tracked)) if agent.states_tracked[i] < 1000]"
      ],
      "execution_count": 26,
      "outputs": []
    },
    {
      "cell_type": "markdown",
      "metadata": {
        "id": "eMxmTadIa1Uj"
      },
      "source": [
        "### 5. Plot the Q-Value convergence for state action pairs"
      ]
    },
    {
      "cell_type": "code",
      "metadata": {
        "colab": {
          "base_uri": "https://localhost:8080/",
          "height": 444
        },
        "id": "DmPDqyYGa1Uk",
        "outputId": "20d156a6-77ca-494f-e2ab-db2135fba4f5"
      },
      "source": [
        "plt.figure(0, figsize=(16,7))\n",
        "plt.title('Q_value for state [0,0,0]  action (0,2)')\n",
        "xaxis = np.asarray(range(0, len(agent.states_tracked)))\n",
        "plt.semilogy(xaxis,np.asarray(agent.states_tracked))\n",
        "plt.show()"
      ],
      "execution_count": 27,
      "outputs": [
        {
          "output_type": "display_data",
          "data": {
            "image/png": "[encoded data removed]",
            "text/plain": [
              "<Figure size 1152x504 with 1 Axes>"
            ]
          },
          "metadata": {
            "needs_background": "light"
          }
        }
      ]
    },
    {
      "cell_type": "markdown",
      "metadata": {
        "id": "49PiV1C5a1Ul"
      },
      "source": [
        "#### We are using log scale because the initial q_values are way to high compared to the steady state value (around 600)"
      ]
    },
    {
      "cell_type": "markdown",
      "metadata": {
        "id": "PYyjRSFZa1Um"
      },
      "source": [
        "### 6. Track rewards per episode."
      ]
    },
    {
      "cell_type": "code",
      "metadata": {
        "id": "aGmHYxtFa1Um"
      },
      "source": [
        "score_tracked_sample = [score_tracked[i] for i in range(len(score_tracked)) if (i % 4 == 0)]"
      ],
      "execution_count": 28,
      "outputs": []
    },
    {
      "cell_type": "code",
      "metadata": {
        "colab": {
          "base_uri": "https://localhost:8080/",
          "height": 444
        },
        "id": "xTfwge5la1Un",
        "outputId": "9ba8f9b4-c27f-412d-c1e8-6cadd11d98fa"
      },
      "source": [
        "plt.figure(0, figsize=(16,7))\n",
        "plt.title('Rewards per episode')\n",
        "xaxis = np.asarray(range(0, len(score_tracked_sample)))\n",
        "plt.plot(xaxis,np.asarray(score_tracked_sample))\n",
        "plt.show()"
      ],
      "execution_count": 29,
      "outputs": [
        {
          "output_type": "display_data",
          "data": {
            "image/png": "[encoded data removed]",
            "text/plain": [
              "<Figure size 1152x504 with 1 Axes>"
            ]
          },
          "metadata": {
            "needs_background": "light"
          }
        }
      ]
    },
    {
      "cell_type": "markdown",
      "metadata": {
        "id": "jphnVcqfa1Uo"
      },
      "source": [
        "### We can see from the above plot that the rewards converge at around 1500. Since the initial state is picked to be random for each episode, some initial states may be less rewarding than others inherently regardless of the model quality."
      ]
    },
    {
      "cell_type": "markdown",
      "metadata": {
        "id": "MhdSpS2Xa1Up"
      },
      "source": [
        "#### Epsilon-decay sample function"
      ]
    },
    {
      "cell_type": "markdown",
      "metadata": {
        "id": "yWATL0-2a1Up"
      },
      "source": [
        "<div class=\"alert alert-block alert-info\">\n",
        "Try building a similar epsilon-decay function for your model.\n",
        "</div>"
      ]
    },
    {
      "cell_type": "code",
      "metadata": {
        "id": "wZtOEMkUa1Uq"
      },
      "source": [
        "import numpy as np\n",
        "time = np.arange(0,15000)\n",
        "epsilon = []\n",
        "for i in range(0,15000):\n",
        "    epsilon.append((1 - 0.00001) * np.exp(-0.0005 * i))"
      ],
      "execution_count": 30,
      "outputs": []
    },
    {
      "cell_type": "code",
      "metadata": {
        "colab": {
          "base_uri": "https://localhost:8080/",
          "height": 265
        },
        "id": "PQdoOo_Ua1Uq",
        "outputId": "1b84db4d-027a-4df9-e935-4e75bb9a0cf8"
      },
      "source": [
        "import matplotlib.pyplot as plt\n",
        "plt.plot(time, epsilon)\n",
        "plt.show()"
      ],
      "execution_count": 31,
      "outputs": [
        {
          "output_type": "display_data",
          "data": {
            "image/png": "[encoded data removed]",
            "text/plain": [
              "<Figure size 432x288 with 1 Axes>"
            ]
          },
          "metadata": {
            "needs_background": "light"
          }
        }
      ]
    },
    {
      "cell_type": "code",
      "metadata": {
        "id": "5CgKZD0fa1Ur"
      },
      "source": [
        ""
      ],
      "execution_count": 31,
      "outputs": []
    }
  ]
}